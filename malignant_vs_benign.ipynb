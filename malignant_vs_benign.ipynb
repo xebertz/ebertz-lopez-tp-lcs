{
  "cells": [
    {
      "cell_type": "markdown",
      "metadata": {
        "id": "view-in-github",
        "colab_type": "text"
      },
      "source": [
        "<a href=\"https://colab.research.google.com/github/ximeeb/ebertz-gross-lopez-tp-lcs/blob/master/malignant_vs_benign.ipynb\" target=\"_parent\"><img src=\"https://colab.research.google.com/assets/colab-badge.svg\" alt=\"Open In Colab\"/></a>"
      ]
    },
    {
      "cell_type": "code",
      "execution_count": null,
      "metadata": {
        "id": "6HLSvVf0VWGJ"
      },
      "outputs": [],
      "source": [
        "!pip install opendatasets\n",
        "!pip install pandas"
      ]
    },
    {
      "cell_type": "code",
      "execution_count": 2,
      "metadata": {
        "id": "tZY8YoHWVbOI"
      },
      "outputs": [],
      "source": [
        "import tensorflow as tf\n",
        "import numpy as np\n",
        "from keras.utils import to_categorical\n",
        "from keras.preprocessing.image import ImageDataGenerator\n",
        "from keras.optimizers import Adam\n",
        "from pandas.io.formats.info import DataFrameTableBuilder\n",
        "import opendatasets as od\n",
        "import pandas\n",
        "import cv2\n",
        "import os\n",
        "import matplotlib.pyplot as plt\n",
        "import json\n",
        "from PIL import Image"
      ]
    },
    {
      "cell_type": "code",
      "execution_count": null,
      "metadata": {
        "id": "B__wVCuqVh8F"
      },
      "outputs": [],
      "source": [
        "od.download(\"https://www.kaggle.com/datasets/fanconic/skin-cancer-malignant-vs-benign\")"
      ]
    },
    {
      "cell_type": "code",
      "execution_count": 5,
      "metadata": {
        "id": "9ZgtTYAAaEwt"
      },
      "outputs": [],
      "source": [
        "def cargar_imagenes(ruta_carpeta, etiqueta):\n",
        "    archivos_img = os.listdir(ruta_carpeta)\n",
        "\n",
        "    imagenes = []\n",
        "    etiquetas = []\n",
        "    tamano_img = 100\n",
        "\n",
        "    for archivo_img in archivos_img:\n",
        "        if es_imagen(archivo_img):\n",
        "            ruta_imagen = os.path.join(ruta_carpeta, archivo_img)\n",
        "\n",
        "            imagen = leer_imagen(ruta_imagen, tamano_img)\n",
        "\n",
        "            imagenes.append(imagen)\n",
        "            etiquetas.append(etiqueta)\n",
        "\n",
        "    return imagenes, etiquetas"
      ]
    },
    {
      "cell_type": "code",
      "source": [
        "def es_imagen(archivo):\n",
        "  return archivo.endswith('.jpg') or archivo.endswith('.png')"
      ],
      "metadata": {
        "id": "JbljRv07e7KN"
      },
      "execution_count": 6,
      "outputs": []
    },
    {
      "cell_type": "code",
      "source": [
        "def leer_imagen(ruta, tamano):\n",
        "  imagen = cv2.imread(ruta, cv2.COLOR_BGR2RGB)\n",
        "  imagen = cv2.cvtColor(imagen, cv2.COLOR_BGR2RGB)\n",
        "  imagen = np.array(cv2.resize(imagen, (tamano, tamano)))\n",
        "\n",
        "  return imagen"
      ],
      "metadata": {
        "id": "JbI0vJIGd3sY"
      },
      "execution_count": 7,
      "outputs": []
    },
    {
      "cell_type": "code",
      "source": [
        "import random\n",
        "def mezclar_con_correspondencia(imagenes, etiquetas):\n",
        "  combinados = list(zip(imagenes, etiquetas))\n",
        "  random.shuffle(combinados)\n",
        "  i, e = zip(*combinados)\n",
        "  return i, e"
      ],
      "metadata": {
        "id": "3Wx24YmpejUx"
      },
      "execution_count": 8,
      "outputs": []
    },
    {
      "cell_type": "code",
      "execution_count": 9,
      "metadata": {
        "id": "hNEzckk5XZPQ"
      },
      "outputs": [],
      "source": [
        "# Preparación de imágenes y etiquetas de entrenamiento\n",
        "\n",
        "ruta_benign = \"/content/skin-cancer-malignant-vs-benign/train/benign\"\n",
        "ruta_malignant = \"/content/skin-cancer-malignant-vs-benign/train/malignant\"\n",
        "\n",
        "imagenes_benign, etiquetas_benign = cargar_imagenes(ruta_benign, 0)\n",
        "imagenes_malignant, etiquetas_malignant = cargar_imagenes(ruta_malignant, 1)\n",
        "\n",
        "imagenes_entrenamiento = imagenes_benign + imagenes_malignant\n",
        "etiquetas_entrenamiento = etiquetas_benign + etiquetas_malignant\n",
        "\n",
        "imagenes_entrenamiento, etiquetas_entrenamiento = mezclar_con_correspondencia(imagenes_entrenamiento, etiquetas_entrenamiento)"
      ]
    },
    {
      "cell_type": "code",
      "execution_count": 10,
      "metadata": {
        "id": "N8bmMS6LewqN"
      },
      "outputs": [],
      "source": [
        "# Preparación de imágenes y etiquetas de prueba\n",
        "\n",
        "ruta_benign = \"/content/skin-cancer-malignant-vs-benign/test/benign\"\n",
        "ruta_malignant = \"/content/skin-cancer-malignant-vs-benign/test/malignant\"\n",
        "\n",
        "imagenes_benign_prueba, etiquetas_benign_prueba = cargar_imagenes(ruta_benign, 0)\n",
        "imagenes_malignant_prueba, etiquetas_malignant_prueba = cargar_imagenes(ruta_malignant, 1)\n",
        "\n",
        "imagenes_prueba = imagenes_benign_prueba + imagenes_malignant_prueba\n",
        "etiquetas_prueba = etiquetas_benign_prueba + etiquetas_malignant_prueba\n",
        "\n",
        "imagenes_prueba, etiquetas_prueba = mezclar_con_correspondencia(imagenes_prueba, etiquetas_prueba)"
      ]
    },
    {
      "cell_type": "code",
      "execution_count": null,
      "metadata": {
        "id": "0Wdfiz13lezi"
      },
      "outputs": [],
      "source": [
        "# Mostrar algunas imágenes\n",
        "\n",
        "plt.figure(figsize = (10, 10))\n",
        "\n",
        "for i in range(25):\n",
        "    plt.subplot(5, 5, i+1)\n",
        "    plt.xticks([])\n",
        "    plt.yticks([])\n",
        "    plt.imshow(imagenes_entrenamiento[i])\n",
        "\n",
        "plt.show()"
      ]
    },
    {
      "cell_type": "code",
      "execution_count": 11,
      "metadata": {
        "id": "i7eKQ_Eeff1u"
      },
      "outputs": [],
      "source": [
        "# Normalización de entradas y convirtiendo listas a tensores\n",
        "\n",
        "imagenes_entrenamiento = np.array(imagenes_entrenamiento).astype(float) / 255\n",
        "imagenes_prueba = np.array(imagenes_prueba).astype(float) / 255\n",
        "\n",
        "etiquetas_entrenamiento = np.array(etiquetas_entrenamiento)\n",
        "etiquetas_prueba = np.array(etiquetas_prueba)"
      ]
    },
    {
      "cell_type": "code",
      "execution_count": 31,
      "metadata": {
        "id": "NhKyQ9pxcQSD"
      },
      "outputs": [],
      "source": [
        "# Preparación de generador de datos\n",
        "\n",
        "generador_datos = ImageDataGenerator(\n",
        "    rotation_range = 50, # Rotación aleatoria de las imágenes\n",
        "    width_shift_range = 0.1, # Movimiento hacia los lados\n",
        "    height_shift_range = 0.1, # Movimiento hacia arriba o abajo\n",
        "    shear_range = 15, # Inclinación\n",
        "    zoom_range = [0.9, 1.0],\n",
        "    horizontal_flip = True,\n",
        "    vertical_flip = True\n",
        ")\n",
        "\n",
        "generador_datos.fit(imagenes_entrenamiento)"
      ]
    },
    {
      "cell_type": "code",
      "execution_count": 25,
      "metadata": {
        "id": "wNj4mYTFgIBX"
      },
      "outputs": [],
      "source": [
        "modelo_denso = tf.keras.models.Sequential([\n",
        "    tf.keras.layers.Flatten(input_shape = (100, 100, 3)),\n",
        "    tf.keras.layers.Dense(150, activation = 'relu'),\n",
        "    tf.keras.layers.Dense(150, activation = 'relu'),\n",
        "    tf.keras.layers.Dense(1, activation = 'sigmoid'),\n",
        "])\n",
        "\n",
        "#Compilación\n",
        "modelo_denso.compile(optimizer='adam',\n",
        "              loss='binary_crossentropy',\n",
        "              metrics=['accuracy'])"
      ]
    },
    {
      "cell_type": "code",
      "execution_count": 34,
      "metadata": {
        "id": "O3sRZsJugLSM"
      },
      "outputs": [],
      "source": [
        "modelo_cnn = tf.keras.models.Sequential([\n",
        "    tf.keras.layers.Conv2D(16, (3, 3), activation = 'relu', input_shape = (100, 100, 3)),\n",
        "    tf.keras.layers.MaxPooling2D(3, 3),\n",
        "\n",
        "    tf.keras.layers.Dropout(0.5),\n",
        "    tf.keras.layers.Flatten(),\n",
        "    tf.keras.layers.Dense(64, activation = 'relu'),\n",
        "    tf.keras.layers.Dropout(0.2),\n",
        "    tf.keras.layers.Dense(32, activation = 'relu'),\n",
        "    tf.keras.layers.Dropout(0.5),\n",
        "    tf.keras.layers.Dense(1, activation = 'sigmoid')\n",
        "])\n",
        "\n",
        "#Compilación\n",
        "modelo_cnn.compile(optimizer='adam',\n",
        "              loss='binary_crossentropy',\n",
        "              metrics=['accuracy'])"
      ]
    },
    {
      "cell_type": "code",
      "execution_count": 26,
      "metadata": {
        "id": "LjCbqX0vfMNp"
      },
      "outputs": [],
      "source": [
        "modelo_cnn_ad = tf.keras.models.Sequential([\n",
        "    tf.keras.layers.Conv2D(16, (3, 3), activation = 'relu', input_shape = (100, 100, 3)),\n",
        "    tf.keras.layers.MaxPooling2D(2, 2),\n",
        "\n",
        "    tf.keras.layers.Dropout(0.5),\n",
        "    tf.keras.layers.Flatten(),\n",
        "    tf.keras.layers.Dense(150, activation = 'relu'),\n",
        "    tf.keras.layers.Dense(150, activation = 'relu'),\n",
        "    tf.keras.layers.Dense(1, activation = 'sigmoid')\n",
        "])\n",
        "\n",
        "#Compilación\n",
        "modelo_cnn_ad.compile(optimizer='adam',\n",
        "              loss='binary_crossentropy',\n",
        "              metrics=['accuracy'])\n",
        "\n",
        "generador_datos_entrenamiento = generador_datos.flow(imagenes_entrenamiento, etiquetas_entrenamiento, batch_size = 32)"
      ]
    },
    {
      "cell_type": "code",
      "source": [
        "epocas = 20"
      ],
      "metadata": {
        "id": "J4MgHlktQZp2"
      },
      "execution_count": 15,
      "outputs": []
    },
    {
      "cell_type": "code",
      "source": [
        "print(\"Entrenando modelo denso...\")\n",
        "historial_denso = modelo_denso.fit(imagenes_entrenamiento, etiquetas_entrenamiento, epochs=epocas, validation_data=(imagenes_prueba, etiquetas_prueba), use_multiprocessing=True, shuffle=True)\n",
        "\n",
        "print(\"Modelo denso entrenado!\")"
      ],
      "metadata": {
        "id": "U_bUbWuMHXi1"
      },
      "execution_count": null,
      "outputs": []
    },
    {
      "cell_type": "code",
      "execution_count": null,
      "metadata": {
        "id": "Q0QUS5YagPeJ"
      },
      "outputs": [],
      "source": [
        "print(\"Entrenando modelo convolucional...\")\n",
        "historial_cnn = modelo_cnn.fit(imagenes_entrenamiento, etiquetas_entrenamiento, epochs=epocas, validation_data=(imagenes_prueba, etiquetas_prueba), use_multiprocessing=True, shuffle=True)\n",
        "\n",
        "print(\"Modelo convolucional entrenado!\")"
      ]
    },
    {
      "cell_type": "code",
      "execution_count": null,
      "metadata": {
        "id": "PD0hTdQnfsMO"
      },
      "outputs": [],
      "source": [
        "print(\"Entrenando modelo convolucional con aumento de datos...\")\n",
        "historial_cnn_ad = modelo_cnn_ad.fit(\n",
        "    generador_datos_entrenamiento,\n",
        "    epochs=epocas,\n",
        "    validation_data=(imagenes_prueba, etiquetas_prueba),\n",
        ")\n",
        "\n",
        "print(\"Modelo convolucional entrenado!\")"
      ]
    },
    {
      "cell_type": "code",
      "execution_count": null,
      "metadata": {
        "id": "1h0nzizamTNF"
      },
      "outputs": [],
      "source": [
        "# Graficas de precisión y pérdida de modelo\n",
        "acc = historial_cnn_ad.history['accuracy']\n",
        "val_acc = historial_cnn_ad.history['val_accuracy']\n",
        "\n",
        "loss = historial_cnn_ad.history['loss']\n",
        "val_loss = historial_cnn_ad.history['val_loss']\n",
        "\n",
        "rango_epocas = range(epocas)\n",
        "\n",
        "plt.figure(figsize=(10,5))\n",
        "plt.subplot(1,2,1)\n",
        "plt.plot(rango_epocas, acc, label='Precisión Entrenamiento')\n",
        "plt.plot(rango_epocas, val_acc, label='Precisión Pruebas')\n",
        "plt.legend(loc='lower right')\n",
        "plt.ylim(0.4, 1)\n",
        "plt.title('Precisión de entrenamiento y pruebas')\n",
        "\n",
        "plt.subplot(1,2,2)\n",
        "plt.plot(rango_epocas, loss, label= 'Pérdida de entrenamiento')\n",
        "plt.plot(rango_epocas, val_loss, label='Pérdida de pruebas')\n",
        "plt.legend(loc='upper right')\n",
        "plt.ylim(0, 1)\n",
        "plt.title('Pérdida de entrenamiento y pruebas')\n",
        "plt.show()"
      ]
    },
    {
      "cell_type": "code",
      "source": [
        "# Graficas de precisión y pérdida de todos los modelos\n",
        "acc_denso = historial_denso.history['accuracy']\n",
        "acc_cnn = historial_cnn.history['accuracy']\n",
        "acc_cnn_ad = historial_cnn_ad.history['accuracy']\n",
        "\n",
        "loss_denso = historial_denso.history['loss']\n",
        "loss_cnn = historial_cnn.history['loss']\n",
        "loss_cnn_ad = historial_cnn_ad.history['loss']\n",
        "\n",
        "rango_epocas = range(epocas)\n",
        "\n",
        "plt.figure(figsize=(10,5))\n",
        "plt.subplot(1,2,1)\n",
        "plt.plot(rango_epocas, acc_denso, label='Modelo Denso')\n",
        "plt.plot(rango_epocas, acc_cnn, label='Modelo CNN')\n",
        "plt.plot(rango_epocas, acc_cnn_ad, label='Modelo CNN AD')\n",
        "plt.legend(loc='lower right')\n",
        "plt.ylim(0.4, 1)\n",
        "plt.title('Precisión de entrenamiento')\n",
        "\n",
        "plt.subplot(1,2,2)\n",
        "plt.plot(rango_epocas, loss_denso, label='Modelo Denso')\n",
        "plt.plot(rango_epocas, loss_cnn, label='Modelo CNN')\n",
        "plt.plot(rango_epocas, loss_cnn_ad, label='Modelo CNN AD')\n",
        "plt.legend(loc='upper right')\n",
        "plt.ylim(0, 1)\n",
        "plt.title('Pérdida de entrenamiento')\n",
        "plt.show()"
      ],
      "metadata": {
        "id": "nGXRaaL0Jz-t"
      },
      "execution_count": null,
      "outputs": []
    },
    {
      "cell_type": "code",
      "execution_count": 39,
      "metadata": {
        "id": "BolRtVKYqRDq"
      },
      "outputs": [],
      "source": [
        "import math\n",
        "def prediccion_es_correcta(esperado, prediccion):\n",
        "    return round(prediccion[0]) == esperado"
      ]
    },
    {
      "cell_type": "code",
      "source": [
        "def imprimir_testing(predicciones, etiquetas_esperadas, cant_imagenes):\n",
        "    correctas_tipo = [0, 0]\n",
        "    falladas_tipo = [0, 0]\n",
        "\n",
        "    print(\"Predicciones:\", len(predicciones))\n",
        "\n",
        "    for i in range(cant_imagenes):\n",
        "      prediccion = predicciones[i]\n",
        "      esperado = etiquetas_esperadas[i]\n",
        "\n",
        "      if prediccion_es_correcta(esperado, prediccion):\n",
        "        correctas_tipo[esperado] += 1\n",
        "      else:\n",
        "        falladas_tipo[esperado] += 1\n",
        "\n",
        "    print(\"Tipo 0:\", correctas_tipo[0], \"correctas,\", falladas_tipo[0], \"incorrectas\")\n",
        "    print(\"Tipo 1:\", correctas_tipo[1], \"correctas,\", falladas_tipo[1], \"incorrectas\")\n",
        "\n",
        "    total_correctas = correctas_tipo[0] + correctas_tipo[1]\n",
        "    print(\"Total:\", total_correctas, \"correctas,\", cant_imagenes - total_correctas, \"incorrectas\\n\")"
      ],
      "metadata": {
        "id": "3I-m9NPf1wDh"
      },
      "execution_count": 40,
      "outputs": []
    },
    {
      "cell_type": "code",
      "execution_count": null,
      "metadata": {
        "id": "LO9lblNoMfY_"
      },
      "outputs": [],
      "source": [
        "# Testing\n",
        "\n",
        "imagenes = np.array(imagenes_prueba)\n",
        "\n",
        "print(\"Predicciones del modelo denso\")\n",
        "imprimir_testing(modelo_denso.predict(imagenes), etiquetas_prueba, len(imagenes))\n",
        "\n",
        "print(\"Predicciones del modelo convolutivo\")\n",
        "imprimir_testing(modelo_cnn.predict(imagenes), etiquetas_prueba, len(imagenes))\n",
        "\n",
        "print(\"Predicciones del modelo convolutivo con aumento de datos\")\n",
        "imprimir_testing(modelo_cnn_ad.predict(imagenes), etiquetas_prueba, len(imagenes))"
      ]
    }
  ],
  "metadata": {
    "colab": {
      "provenance": [],
      "include_colab_link": true
    },
    "kernelspec": {
      "display_name": "Python 3",
      "name": "python3"
    },
    "language_info": {
      "name": "python"
    }
  },
  "nbformat": 4,
  "nbformat_minor": 0
}