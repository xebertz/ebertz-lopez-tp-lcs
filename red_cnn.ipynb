{
  "nbformat": 4,
  "nbformat_minor": 0,
  "metadata": {
    "colab": {
      "provenance": [],
      "gpuType": "T4",
      "include_colab_link": true
    },
    "kernelspec": {
      "name": "python3",
      "display_name": "Python 3"
    },
    "language_info": {
      "name": "python"
    },
    "accelerator": "GPU"
  },
  "cells": [
    {
      "cell_type": "markdown",
      "metadata": {
        "id": "view-in-github",
        "colab_type": "text"
      },
      "source": [
        "<a href=\"https://colab.research.google.com/github/ximeeb/ebertz-gross-lopez-tp-lcs/blob/master/red_cnn.ipynb\" target=\"_parent\"><img src=\"https://colab.research.google.com/assets/colab-badge.svg\" alt=\"Open In Colab\"/></a>"
      ]
    },
    {
      "cell_type": "code",
      "execution_count": null,
      "metadata": {
        "id": "cqqqGw_FpKXr"
      },
      "outputs": [],
      "source": [
        "!pip install opendatasets\n",
        "!pip install pandas"
      ]
    },
    {
      "cell_type": "code",
      "source": [
        "import tensorflow as tf\n",
        "import numpy as np\n",
        "#from tensorflow.keras.utils import to_categorical\n",
        "import opendatasets as od\n",
        "import pandas\n",
        "import cv2\n",
        "import os\n",
        "import matplotlib.pyplot as plt\n",
        "import json"
      ],
      "metadata": {
        "id": "hRWErHPIq2V5"
      },
      "execution_count": 2,
      "outputs": []
    },
    {
      "cell_type": "code",
      "source": [
        "od.download(\"https://www.kaggle.com/datasets/andrewmvd/ocular-disease-recognition-odir5k?select=full_df.csv\")"
      ],
      "metadata": {
        "id": "K95D62mJrIXP"
      },
      "execution_count": null,
      "outputs": []
    },
    {
      "cell_type": "code",
      "source": [
        "# leemos full_df.csv a ver qué tiene\n",
        "full_df = pandas.read_csv('/content/ocular-disease-recognition-odir5k/full_df.csv')\n",
        "\n",
        "#sacamos las columnas que no nos interesan\n",
        "raw_data = full_df.drop(columns=['N', 'D', 'G', 'C', 'A', 'H', 'M', 'O', 'labels'])\n",
        "\n",
        "# print(raw_data.head())  muestra las primeras 5 columnas\n",
        "raw_data['target'].unique()  #separa los arrays que corresponden a las clases\n",
        "#raw_data.shape  #tamaño de tabla\n",
        "\n",
        "# cantidad de elementos y clases. creamos un tensor\n",
        "targets = np.array(raw_data[\"target\"].apply(lambda x: json.loads(x)).tolist())\n",
        "targets.shape"
      ],
      "metadata": {
        "id": "jaTvPOMBtSHP"
      },
      "execution_count": null,
      "outputs": []
    },
    {
      "cell_type": "code",
      "source": [
        "classes = { 0: \"Normal\",\n",
        "            1: \"Diabetes\",\n",
        "            2: \"Glaucoma\",\n",
        "            3: \"Cataract\",\n",
        "            4: \"Age related Macular Degeneration\",\n",
        "            5: \"Hypertension\",\n",
        "            6: \"Pathological Myopia\",\n",
        "            7: \"Other diseases/abnormalities\"\n",
        "          }"
      ],
      "metadata": {
        "id": "9EG2mG2_g5vM"
      },
      "execution_count": 5,
      "outputs": []
    },
    {
      "cell_type": "code",
      "source": [
        "data = np.sum(targets, axis=0)  #suma la cantidad de elementos por clase\n",
        "\n",
        "classes_names = list(classes.values())\n",
        "values = list(data)  #data a list. antes era un tensor\n",
        "\n",
        "fig = plt.figure(figsize = (10, 5))\n",
        "\n",
        "# creating the bar plot\n",
        "plt.bar(classes_names, values, color ='pink', width = 0.4)\n",
        "\n",
        "plt.xlabel(\"Diagnosis\")\n",
        "plt.ylabel(\"# of samples\")\n",
        "plt.title(\"Size of the classes in data set\")\n",
        "\n",
        "plt.xticks(rotation=90)\n",
        "\n",
        "plt.show()"
      ],
      "metadata": {
        "id": "EkYGc91Vg6pv"
      },
      "execution_count": null,
      "outputs": []
    },
    {
      "cell_type": "code",
      "source": [
        "#agregamos columna class_name\n",
        "raw_data[\"class_name\"] = np.argmax(targets, axis=1).tolist()\n",
        "raw_data[\"class_name\"] = raw_data[\"class_name\"] .replace(classes)\n",
        "\n",
        "raw_data.head()"
      ],
      "metadata": {
        "id": "l5S5C3EVyrCd"
      },
      "execution_count": null,
      "outputs": []
    },
    {
      "cell_type": "code",
      "source": [
        "# dejamos las etiquetas limpias segun la imagen\n",
        "processed_labels = raw_data[[\"ID\", \"filename\", \"class_name\", \"target\"]]\n",
        "\n",
        "# ver si lo tenemos que guardar en csv\n",
        "# processed_labels.to_csv('/kaggle/working/labels_clean.csv', index=False)\n",
        "\n",
        "processed_labels.head()"
      ],
      "metadata": {
        "id": "9_dzOy83yNkQ"
      },
      "execution_count": null,
      "outputs": []
    },
    {
      "cell_type": "code",
      "source": [
        "#input_images_path = \"/content/ocular-disease-recognition-odir5k/ODIR-5K/ODIR-5K/Training Images/0_left.jpg\"\n",
        "\n",
        "#training_images = []\n",
        "#ret, training_images = cv2.imreadmulti(mats=training_images,filename=input_images_path,flags=cv2.IMREAD_COLOR)\n",
        "#plt.imshow(training_images[0], aspect=1)  #hay que convertir a tensor (creo)"
      ],
      "metadata": {
        "id": "ERAqm-ToNq9I"
      },
      "execution_count": 49,
      "outputs": []
    },
    {
      "cell_type": "code",
      "source": [
        "imgs_entrenamiento = []\n",
        "etiquetas = []\n",
        "\n",
        "tamanio_imagen = 100\n",
        "\n",
        "for i in range(len(processed_labels)):\n",
        "    input_images_path = \"/content/ocular-disease-recognition-odir5k/preprocessed_images/\" + processed_labels['filename'][i]\n",
        "    imagen = cv2.imread(input_images_path, cv2.IMREAD_COLOR)\n",
        "    imagen = cv2.resize(imagen, (tamanio_imagen, tamanio_imagen))\n",
        "    imgs_entrenamiento.append(imagen)\n",
        "    etiquetas.append(processed_labels['class_name'][i])\n",
        "\n",
        "plt.figure(figsize = (20, 20))\n",
        "\n",
        "for i in range(25):\n",
        "    plt.subplot(5, 5, i+1)\n",
        "    plt.xticks([])\n",
        "    plt.yticks([])\n",
        "    plt.imshow(cv2.cvtColor(imgs_entrenamiento[i], cv2.COLOR_BGR2RGB)) # Convierte BGR a RGB\n",
        "\n",
        "plt.show()"
      ],
      "metadata": {
        "id": "GMXc6F1UTcmR"
      },
      "execution_count": null,
      "outputs": []
    },
    {
      "cell_type": "code",
      "source": [
        "imgs_entrenamiento = np.array(imgs_entrenamiento).astype(float) / 255\n",
        "\n",
        "imgs_entrenamiento.shape"
      ],
      "metadata": {
        "colab": {
          "base_uri": "https://localhost:8080/"
        },
        "id": "TwrwbUIveD58",
        "outputId": "cd0d5c02-be3c-4c6a-a80e-9152a5428a98"
      },
      "execution_count": 20,
      "outputs": [
        {
          "output_type": "execute_result",
          "data": {
            "text/plain": [
              "(6392, 100, 100, 3)"
            ]
          },
          "metadata": {},
          "execution_count": 20
        }
      ]
    }
  ]
}